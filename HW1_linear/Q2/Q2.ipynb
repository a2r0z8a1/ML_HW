{
  "cells": [
    {
      "cell_type": "markdown",
      "metadata": {
        "id": "ChC3RF8meAlK"
      },
      "source": [
        "<h1 align=\"center\">Introduction to Machine Learning - 25737-2</h1>\n",
        "<h4 align=\"center\">Dr. R. Amiri</h4>\n",
        "<h4 align=\"center\">Sharif University of Technology, Spring 2024</h4>\n",
        "\n",
        "\n",
        "**<font color='red'>Plagiarism is strongly prohibited!</font>**\n",
        "\n",
        "\n",
        "**Student Name**:\n",
        "\n",
        "**Student ID**:\n",
        "\n",
        "\n",
        "\n"
      ]
    },
    {
      "cell_type": "markdown",
      "metadata": {
        "id": "IraiR0SbeDi_"
      },
      "source": [
        "# Logistic Regression"
      ]
    },
    {
      "cell_type": "markdown",
      "metadata": {
        "id": "nRQjwWC3eDnc"
      },
      "source": [
        "**Task:** Implement your own Logistic Regression model, and test it on the given dataset of Logistic_question.csv!"
      ]
    },
    {
      "cell_type": "code",
      "execution_count": 7,
      "metadata": {},
      "outputs": [],
      "source": [
        "# import necessary libraries\n",
        "import numpy as np\n",
        "import pandas as pd\n",
        "import matplotlib.pyplot as plt\n",
        "from sklearn.model_selection import train_test_split\n",
        "from sklearn.linear_model import LogisticRegression\n",
        "from sklearn import metrics\n",
        "from sklearn.preprocessing import normalize\n",
        "from sklearn.preprocessing import StandardScaler\n",
        "from sklearn.metrics import accuracy_score\n",
        "from sklearn.model_selection import GridSearchCV\n",
        "from sklearn.linear_model import LogisticRegression\n",
        "from sklearn.model_selection import KFold\n",
        "\n",
        "\n",
        "\n",
        "from sklearn.pipeline import Pipeline\n",
        "from sklearn.linear_model import LogisticRegression\n",
        "from sklearn.model_selection import GridSearchCV\n",
        "from sklearn.compose import ColumnTransformer\n",
        "from sklearn.preprocessing import StandardScaler, OneHotEncoder\n"
      ]
    },
    {
      "cell_type": "code",
      "execution_count": 3,
      "metadata": {},
      "outputs": [],
      "source": [
        "class MyLogisticRegression:\n",
        "    # Your code goes here!\n",
        "    # This class must have an __init__ method, a loss function, a fit function, and a predict function. You also need to make your code runnable on gpu!\n",
        "    def __init__(self, learning_rate=0.01, num_iterations=1000):\n",
        "        self.learning_rate = learning_rate\n",
        "        self.num_iterations = num_iterations\n",
        "        self.weights = None\n",
        "        self.bias = None\n",
        "\n",
        "    def sigmoid(self, z):\n",
        "        return 1 / (1 + np.exp(-z))\n",
        "    \n",
        "    def fit(self, X, y):\n",
        "        X=mynormalize(X)\n",
        "        num_samples, num_features = X.shape\n",
        "        self.weights = np.zeros(num_features)\n",
        "        self.bias = 0\n",
        "        \n",
        "        for i in range(self.num_iterations):\n",
        "            z = np.dot(X, self.weights) + self.bias\n",
        "            predictions = self.sigmoid(z)\n",
        "            \n",
        "            # Compute gradients\n",
        "            dw = (1 / num_samples) * np.dot(X.T, (predictions - y))\n",
        "            db = (1 / num_samples) * np.sum(predictions - y)\n",
        "            # Update weights and bias\n",
        "            self.weights -= self.learning_rate * dw\n",
        "            self.bias -= self.learning_rate * db\n",
        "\n",
        "    def predict(self, X):\n",
        "        X=mynormalize(X)\n",
        "        z = np.dot(X, self.weights) + self.bias\n",
        "        predictions = self.sigmoid(z)\n",
        "        return np.round(predictions)\n",
        "    def compute_loss(self, y_true, y_pred):\n",
        "        epsilon = 1e-15  # Small constant to avoid log(0)\n",
        "        loss = -np.mean(y_true * np.log(y_pred + epsilon) + (1 - y_true) * np.log(1 - y_pred + epsilon))\n",
        "        return loss\n",
        "def mynormalize(X_data):\n",
        "    mean = np.mean(X_data, axis=0)\n",
        "    std = np.std(X_data, axis=0)\n",
        "    normalized_data = (X_data - mean) / std\n",
        "    return normalized_data\n",
        "    "
      ]
    },
    {
      "cell_type": "code",
      "execution_count": 195,
      "metadata": {},
      "outputs": [
        {
          "name": "stdout",
          "output_type": "stream",
          "text": [
            "0.9625\n"
          ]
        }
      ],
      "source": [
        "file_name='Logistic_question.csv'\n",
        "test_ratio=0.2\n",
        "Data_file=pd.read_csv(file_name)\n",
        "X=Data_file.iloc[:, :-1]  # Features\n",
        "y=np.round(Data_file.iloc[:, -1])   # Target variable\n",
        "X_train, X_test, y_train, y_test = train_test_split(X, y, test_size=test_ratio, random_state=24)\n",
        "\n",
        "model = MyLogisticRegression(0.01,1000)\n",
        "model.fit(X_train.copy(), y_train)\n",
        "y_pred = model.predict(X_test.copy())\n",
        "print(metrics.accuracy_score(y_test, y_pred))"
      ]
    },
    {
      "cell_type": "markdown",
      "metadata": {
        "id": "S-i-oubUlZ6e"
      },
      "source": [
        "**Task:** Test your model on the given dataset. You must split your data into train and test, with a 0.2 split, then normalize your data using X_train data. Finally, report 4 different evaluation metrics of the model on the test set. (You might want to first make the Target column binary!)"
      ]
    },
    {
      "cell_type": "code",
      "execution_count": null,
      "metadata": {
        "colab": {
          "base_uri": "https://localhost:8080/"
        },
        "id": "0KXzIy_2u-pG",
        "outputId": "9625f7e2-abb1-4591-c0fa-843525e0ffd6"
      },
      "outputs": [],
      "source": [
        "# Your code goes here!\n",
        "\n"
      ]
    },
    {
      "cell_type": "markdown",
      "metadata": {
        "id": "Ji0RXNGKv1pa"
      },
      "source": [
        "**Question:** What are each of your used evaluation metrics? And for each one, mention situations in which they convey more data on the model performance in specific tasks."
      ]
    },
    {
      "cell_type": "markdown",
      "metadata": {
        "id": "ldveD35twRRZ"
      },
      "source": [
        "**Your answer:**"
      ]
    },
    {
      "cell_type": "markdown",
      "metadata": {
        "id": "1ZCeRHZSw-mh"
      },
      "source": [
        "**Task:** Now test the built-in function of Python for Logistic Regression, and report all the same metrics used before."
      ]
    },
    {
      "cell_type": "code",
      "execution_count": 86,
      "metadata": {
        "id": "Vb5lRSQXDLR3"
      },
      "outputs": [
        {
          "name": "stdout",
          "output_type": "stream",
          "text": [
            "Accuracy: 0.950\n"
          ]
        }
      ],
      "source": [
        "# Your code goes here!\n",
        "model = LogisticRegression()\n",
        "model.fit(X_train, y_train)\n",
        "# Make predictions on the test set\n",
        "y_pred = model.predict(X_test)\n",
        "# Evaluate the model\n",
        "accuracy = metrics.accuracy_score(y_test, y_pred)\n",
        "print(f\"Accuracy: {accuracy:.3f}\")\n"
      ]
    },
    {
      "cell_type": "markdown",
      "metadata": {
        "id": "RCvIymmMy_ji"
      },
      "source": [
        "**Question:** Compare your function with the built-in function. On the matters of performance and parameters. Briefly explain what the parameters of the built-in function are and how they affect the model's performance?"
      ]
    },
    {
      "cell_type": "markdown",
      "metadata": {
        "id": "EY0ohM16z3De"
      },
      "source": [
        "**Your answer:**"
      ]
    },
    {
      "cell_type": "markdown",
      "metadata": {
        "id": "ClMqoYlr2kr7"
      },
      "source": [
        "# Multinomial Logistic Regression"
      ]
    },
    {
      "cell_type": "markdown",
      "metadata": {
        "id": "ukvlqDe52xP5"
      },
      "source": [
        "**Task:** Implement your own Multinomial Logistic Regression model. Your model must be able to handle any number of labels!"
      ]
    },
    {
      "cell_type": "code",
      "execution_count": 7,
      "metadata": {
        "id": "5Ir-_hFt286t"
      },
      "outputs": [
        {
          "name": "stdout",
          "output_type": "stream",
          "text": [
            "Accuracy: 0.988\n",
            "Accuracy built in: 0.988\n",
            "Accuracy: 0.863\n",
            "Accuracy built in: 0.850\n",
            "Accuracy: 0.725\n",
            "Accuracy built in: 0.812\n",
            "Accuracy: 0.675\n",
            "Accuracy built in: 0.750\n",
            "Accuracy: 0.662\n",
            "Accuracy built in: 0.675\n",
            "Accuracy: 0.425\n",
            "Accuracy built in: 0.575\n",
            "Accuracy: 0.362\n",
            "Accuracy built in: 0.662\n",
            "Accuracy: 0.412\n",
            "Accuracy built in: 0.438\n"
          ]
        }
      ],
      "source": [
        "# import necessary libraries\n",
        "# Your code goes here!\n",
        "# This class must have an __init__ method, a loss function, a fit function, and a predict function. You also need to make your code runnable on gpu!\n",
        "\n",
        "class MyMultinomialLogisticRegression:\n",
        "    def __init__(self, num_classes, learning_rate=0.01, min_iterations=1000):\n",
        "        self.num_classes = num_classes\n",
        "        self.learning_rate = learning_rate\n",
        "        self.min_iterations = min_iterations\n",
        "        self.weights = None\n",
        "\n",
        "    def softmax(self, z):\n",
        "        \"\"\"Compute the softmax function.\"\"\"\n",
        "        exp_z = np.exp(z)\n",
        "        \n",
        "        for i in range(exp_z.shape[0]):\n",
        "            exp_z[i,:] =exp_z[i,:] / np.sum(exp_z[i,:])\n",
        "        \n",
        "        return exp_z \n",
        "\n",
        "    def cross_entropy_loss(self, y_true, y_pred):\n",
        "        \"\"\"Compute the cross-entropy loss.\"\"\"\n",
        "        return -np.mean(np.sum(y_true * np.log(y_pred), axis=0))\n",
        "    \n",
        "    \n",
        "\n",
        "    def gradient_descent(self, X, y):\n",
        "        num_samples, num_features = X.shape\n",
        "        self.weights = np.random.randn(num_features, self.num_classes)\n",
        "\n",
        "        for _ in range(self.min_iterations):\n",
        "            logits = X.dot(self.weights)\n",
        "            probs = self.softmax(logits)\n",
        "            #print(y)\n",
        "            gradient = X.T.dot(probs - y) / num_samples\n",
        "            self.weights -= self.learning_rate * gradient\n",
        "\n",
        "    def fit(self, X_train, y_train):\n",
        "        X_train=self.normalize_columns(X_train)\n",
        "\n",
        "        # Assuming X_train and y_train are your training data (features and labels)\n",
        "        self.gradient_descent(X_train, y_train)\n",
        "\n",
        "    def predict(self, X):\n",
        "        X=self.normalize_columns(X)\n",
        "        logits = X.dot(self.weights)\n",
        "        return self.softmax(logits)\n",
        "    def decision_function(self, X):\n",
        "        X=self.normalize_columns(X)\n",
        "        probs = self.predict(X)\n",
        "        return np.argmax(probs, axis=1)\n",
        "    def normalize_columns(self,matrix):\n",
        "        scaler = StandardScaler()\n",
        "        normalized_matrix = scaler.fit_transform(matrix[:,1:])\n",
        "        normalized_matrix=np.concatenate((np.ones((normalized_matrix.shape[0], 1)), normalized_matrix), axis=1)\n",
        "        return normalized_matrix\n",
        "\n",
        "def quantize_array_indexes(arr, n):\n",
        "    bin_edges = np.linspace(np.min(arr), np.max(arr), n )\n",
        "    bin_indices = np.digitize(arr, bin_edges, right=False)-1\n",
        "    return bin_indices\n",
        "def generate_hat_vector(n, index):\n",
        "    hat_vector = np.zeros(n)\n",
        "    hat_vector[index] = 1\n",
        "    return hat_vector\n",
        "def y_to_mat(y,n):\n",
        "    res=np.zeros(shape=(y.shape[0],n))\n",
        "    for i in range(y.shape[0]):\n",
        "        res[i,:]=generate_hat_vector(n,y[i])\n",
        "    return(res)    \n",
        "file_name='Logistic_question.csv'\n",
        "test_ratio=0.2\n",
        "Data_file=pd.read_csv(file_name)\n",
        "X=Data_file.iloc[:, :-1]  \n",
        "y=(Data_file.iloc[:, -1])   \n",
        "X_train, X_test, y_train, y_test = train_test_split(X, y, test_size=test_ratio, random_state=30)\n",
        "X_train = np.concatenate((np.ones((X_train.shape[0], 1)), X_train), axis=1)\n",
        "X_test = np.concatenate((np.ones((X_test.shape[0], 1)), X_test), axis=1)\n",
        "for i in range(2,10,1):\n",
        "    num_classes = i\n",
        "    y_train2=y_to_mat(quantize_array_indexes(y_train.copy(),num_classes),num_classes)\n",
        "    y_test2=y_to_mat(quantize_array_indexes(y_test.copy(),num_classes),num_classes)\n",
        "    model = MyMultinomialLogisticRegression(num_classes, learning_rate=0.01, min_iterations=1000)\n",
        "    X_train2=X_train.copy()\n",
        "    model.fit(X_train2, y_train2)\n",
        "    y_pred = model.decision_function(X_test)\n",
        "    dif=0\n",
        "    y_test2=quantize_array_indexes(y_test.copy(),num_classes)\n",
        "    lr = LogisticRegression(multi_class='multinomial', solver='lbfgs')\n",
        "    lr.fit(model.normalize_columns(X_train2), quantize_array_indexes(y_train.copy(),num_classes))\n",
        "    X_test2=model.normalize_columns(X_test)\n",
        "    y_pred_builtin = lr.predict(X_test2)\n",
        "    for i in range(len(y_pred)):\n",
        "        if(y_pred[i]==y_test2[i]):\n",
        "            dif=dif+1\n",
        "    accuracy = accuracy_score(y_test2, y_pred)\n",
        "    accuracy2 = accuracy_score(y_test2, y_pred_builtin)\n",
        "    print(f\"Accuracy: {accuracy:.3f}\")\n",
        "    print(f\"Accuracy built in: {accuracy2:.3f}\")"
      ]
    },
    {
      "cell_type": "markdown",
      "metadata": {
        "id": "zPQ3Rtay3Y2_"
      },
      "source": [
        "**Task:** Test your model on the given dataset. Do the same as the previous part, but here you might want to first make the Target column quantized into $i$ levels. Change $i$ from 2 to 10."
      ]
    },
    {
      "cell_type": "code",
      "execution_count": 87,
      "metadata": {
        "id": "9aP4QJPq29B3"
      },
      "outputs": [],
      "source": [
        "# Your code goes here!\n",
        "\n",
        "# the code and results are higher up\n"
      ]
    },
    {
      "cell_type": "code",
      "execution_count": 149,
      "metadata": {},
      "outputs": [
        {
          "name": "stdout",
          "output_type": "stream",
          "text": [
            "6.4 1.2\n",
            "Quantized indices: [1 3 1 1 2]\n"
          ]
        }
      ],
      "source": []
    },
    {
      "cell_type": "markdown",
      "metadata": {
        "id": "Of2sHl5Z4dXi"
      },
      "source": [
        "**Question:** Report for which $i$ your model performs best. Describe and analyze the results! You could use visualizations or any other method!"
      ]
    },
    {
      "cell_type": "markdown",
      "metadata": {
        "id": "cRLERDAr4wnS"
      },
      "source": [
        "**Your answer:**"
      ]
    },
    {
      "cell_type": "markdown",
      "metadata": {
        "id": "wT43jGKV6CBZ"
      },
      "source": [
        "# Going a little further!"
      ]
    },
    {
      "cell_type": "markdown",
      "metadata": {
        "id": "Vo9uGo0R6GZo"
      },
      "source": [
        "First we download Adult income dataset from Kaggle! In order to do this create an account on this website, and create an API. A file named kaggle.json will be downloaded to your device. Then use the following code:"
      ]
    },
    {
      "cell_type": "code",
      "execution_count": null,
      "metadata": {
        "colab": {
          "base_uri": "https://localhost:8080/",
          "height": 73
        },
        "id": "o-vrjYBF7u1E",
        "outputId": "b274bc6e-4c35-4ad8-f17b-9e69f7d92923"
      },
      "outputs": [],
      "source": [
        "from google.colab import files\n",
        "files.upload()  # Use this to select the kaggle.json file from your computer\n",
        "!mkdir -p ~/.kaggle\n",
        "!cp kaggle.json ~/.kaggle/\n",
        "!chmod 600 ~/.kaggle/kaggle.json"
      ]
    },
    {
      "cell_type": "markdown",
      "metadata": {
        "id": "5i6u6_1v8ftX"
      },
      "source": [
        "Then use this code to automatically download the dataset into Colab."
      ]
    },
    {
      "cell_type": "code",
      "execution_count": null,
      "metadata": {
        "colab": {
          "base_uri": "https://localhost:8080/"
        },
        "id": "XjyVaVKF29Hx",
        "outputId": "15d0b1a2-c806-4102-abbc-12545237e218"
      },
      "outputs": [],
      "source": [
        "!kaggle datasets download -d wenruliu/adult-income-dataset\n",
        "!unzip /content/adult-income-dataset.zip"
      ]
    },
    {
      "cell_type": "markdown",
      "metadata": {
        "id": "EXQnbZwt8rJK"
      },
      "source": [
        "**Task:** Determine the number of null entries!"
      ]
    },
    {
      "cell_type": "markdown",
      "metadata": {
        "colab": {
          "base_uri": "https://localhost:8080/"
        },
        "id": "JtuEx6QW29c1",
        "outputId": "43397bec-0622-4dc4-de2b-c65be00e4503"
      },
      "source": [
        "# Your code goes here!\n"
      ]
    },
    {
      "cell_type": "markdown",
      "metadata": {
        "id": "JpEcBdTUAYVN"
      },
      "source": [
        "**Question:** In many widely used datasets there are a lot of null entries. Propose 5 methods by which, one could deal with this problem. Briefly explain how do you decide which one to use in this problem."
      ]
    },
    {
      "cell_type": "markdown",
      "metadata": {
        "id": "l1u1pBHuAsSg"
      },
      "source": [
        "**Your answer:**\n",
        "**1 - Dropping Missing Values (Deletion):**<br>\n",
        "This method involves removing rows or columns with missing data. You can use the dropna() function in Python libraries like Pandas to drop observations containing null values.<br>\n",
        "**Pros:** Simple and straightforward.<br>\n",
        "**Cons:** May lead to loss of valuable information if many rows or columns have missing values. Use this cautiously.<br>\n",
        "**Decision Criteria:** Use when the proportion of missing data is small and doesn’t significantly impact the dataset.<br>\n",
        "**2 - Imputation (Filling in Missing Values):**<br>\n",
        "Imputation replaces missing values with estimated or predicted values. Common imputation techniques include mean, median, mode, or regression-based imputation.<br>\n",
        "**Pros:** Retains more data than deletion.<br>\n",
        "**Cons:** Imputed values may introduce bias.<br>\n",
        "**Decision Criteria:** Choose based on the nature of the data and the impact of imputed values on downstream analyses.<br>\n",
        "**3 - Flagging Missing Values:**<br>\n",
        "Instead of imputing or deleting, you can create a new binary variable (flag) indicating whether a value is missing.<br>\n",
        "**Pros:** Retains original data and provides information about missingness.<br>\n",
        "**Cons:** Increases dimensionality.<br>\n",
        "**Decision Criteria:** Useful when missingness itself is informative (e.g., missing salary data indicating unemployment).<br>\n",
        "**4 - Interpolation:**<br>\n",
        "Interpolation estimates missing values based on neighboring data points. It’s commonly used for time series data.<br>\n",
        "**Pros:** Preserves trends and patterns.<br>\n",
        "**Cons:** Assumes smoothness between adjacent points.<br>\n",
        "**Decision Criteria:** Suitable for time series or ordered data where interpolation makes sense.<br>\n",
        "**5 - Advanced Techniques (e.g., Machine Learning Models):**<br>\n",
        "Use machine learning models (e.g., decision trees, random forests, or neural networks) to predict missing values based on other features.<br>\n",
        "**Pros:** Can capture complex relationships.<br>\n",
        "**Cons:** Requires more computational resources and expertise.<br>\n",
        "**Decision Criteria:** Consider when other methods are insufficient or when you want to leverage existing features for imputation.<br>\n"
      ]
    },
    {
      "cell_type": "markdown",
      "metadata": {
        "id": "eHhH-hkpAxFf"
      },
      "source": [
        "**Task:** Handle null entries using your best method."
      ]
    },
    {
      "cell_type": "code",
      "execution_count": 10,
      "metadata": {
        "colab": {
          "base_uri": "https://localhost:8080/",
          "height": 206
        },
        "id": "5fVwWcjK29fk",
        "outputId": "c21a6adf-1e6c-46d0-dd61-79d1710272c1"
      },
      "outputs": [
        {
          "name": "stdout",
          "output_type": "stream",
          "text": [
            "logistic regression model Accuracy: 0.86\n",
            "GridSearchCV Best Parameters: {'classifier__C': 10, 'classifier__penalty': 'l2'}\n",
            "GridSearchCV Train Accuracy: 0.8509711574661093\n",
            "GridSearchCV Test Accuracy: 0.8567918927218753\n"
          ]
        }
      ],
      "source": [
        "# Your code goes here!\n",
        "dataset = pd.read_csv('adult.csv', na_values='?')\n",
        "null_counts_per_column =dataset.isnull().sum()\n",
        "#print(null_counts_per_column)\n",
        "dataset=preprocess_adult_dataset(dataset)\n",
        "dataset = dataset.astype(int)\n",
        "dataset=dataset.fillna(dataset.mean())\n",
        "#print(dataset.head(0))\n",
        "\n",
        "dataset['age'] = (dataset['age'] - dataset['age'].mean()) / dataset['age'].std()\n",
        "dataset['fnlwgt'] = (dataset['fnlwgt'] - dataset['fnlwgt'].mean()) / dataset['fnlwgt'].std()\n",
        "dataset['capital-gain'] = (dataset['capital-gain'] - dataset['capital-gain'].mean()) / dataset['capital-gain'].std()\n",
        "dataset['capital-loss'] = (dataset['capital-loss'] - dataset['capital-loss'].mean()) / dataset['capital-loss'].std()\n",
        "\n",
        "# Split data into features (X) and target (y)\n",
        "X = dataset.drop(columns=['income_>50K'])\n",
        "y = dataset['income_>50K']\n",
        "\n",
        "# Split into training and testing sets\n",
        "X_train, X_test, y_train, y_test = train_test_split(X, y, test_size=0.2, random_state=42)\n",
        "\n",
        "# Create and train the logistic regression model\n",
        "model = LogisticRegression(max_iter=1000)\n",
        "model.fit(X_train, y_train)\n",
        "\n",
        "y_pred = model.predict(X_test)\n",
        "\n",
        "# Evaluate accuracy\n",
        "accuracy = accuracy_score(y_test, y_pred)\n",
        "print(f\"logistic regression model Accuracy: {accuracy:.2f}\")\n",
        "\n",
        "\n",
        "\n",
        "\n",
        "\n",
        "\n",
        "y= y\n",
        "\n",
        "categorical_columns =[col for col in X.columns if X[col].dtype =='object']\n",
        "numeric_columns=[col for col in X.columns if col not in categorical_columns]\n",
        "\n",
        "preprocessor = ColumnTransformer(\n",
        "    transformers=[\n",
        "        ('num', StandardScaler(),numeric_columns),\n",
        "        ('cat', OneHotEncoder(), categorical_columns)\n",
        "    ])\n",
        "\n",
        "\n",
        "pipeline = Pipeline([\n",
        "    ('preprocessor', preprocessor),\n",
        "    ('classifier', LogisticRegression())\n",
        "])\n",
        "\n",
        "#hyperparameters for grid search\n",
        "param_grid = {\n",
        "    'classifier__C': [0.001, 0.01, 0.1, 1, 10, 100],\n",
        "    'classifier__penalty': ['l2']\n",
        "}\n",
        "\n",
        "grid_search = GridSearchCV(pipeline, param_grid, cv=5)\n",
        "grid_search.fit(X_train, y_train)\n",
        "\n",
        "print(\"GridSearchCV Best Parameters:\", grid_search.best_params_)\n",
        "print(\"GridSearchCV Train Accuracy:\", grid_search.best_score_)\n",
        "print(\"GridSearchCV Test Accuracy:\", grid_search.score(X_test, y_test))\n",
        "\n",
        "\n"
      ]
    },
    {
      "cell_type": "code",
      "execution_count": 2,
      "metadata": {},
      "outputs": [],
      "source": [
        "def preprocess_adult_dataset(df):\n",
        "    # Select categorical features\n",
        "    categorical_features = ['workclass', 'education', 'marital-status','income', 'occupation', 'relationship', 'race', 'gender','native-country']\n",
        "    # Apply one-hot encoding\n",
        "    df_encoded = pd.get_dummies(df, columns=categorical_features, drop_first=True)\n",
        "    return df_encoded\n"
      ]
    },
    {
      "cell_type": "code",
      "execution_count": null,
      "metadata": {},
      "outputs": [],
      "source": []
    },
    {
      "cell_type": "code",
      "execution_count": null,
      "metadata": {},
      "outputs": [],
      "source": []
    },
    {
      "cell_type": "markdown",
      "metadata": {
        "id": "43k5cTorCJaV"
      },
      "source": [
        "**Task:** Convert categorical features to numerical values. Split the dataset with 80-20 portion. Normalize all the data using X_train. Use the built-in Logistic Regression function and GridSearchCV to train your model, and report the parameters, train and test accuracy of the best model.\n",
        "**done higher up**<br>\n",
        "logistic regression model Accuracy: 0.86<br>\n",
        "GridSearchCV Best Parameters: {'classifier__C': 10, 'classifier__penalty': 'l2'}<br>\n",
        "GridSearchCV Train Accuracy: 0.8509711574661093<br>\n",
        "GridSearchCV Test Accuracy: 0.8567918927218753<br>"
      ]
    },
    {
      "cell_type": "code",
      "execution_count": 35,
      "metadata": {
        "colab": {
          "base_uri": "https://localhost:8080/"
        },
        "id": "Agj18Lcd-vyZ",
        "outputId": "69e132a9-0249-4a21-c8f3-45247c1e17dc"
      },
      "outputs": [],
      "source": [
        "# Your code goes here!\n",
        "# done higher up"
      ]
    },
    {
      "cell_type": "code",
      "execution_count": null,
      "metadata": {},
      "outputs": [],
      "source": [
        "\n",
        "    "
      ]
    },
    {
      "cell_type": "code",
      "execution_count": 4,
      "metadata": {},
      "outputs": [],
      "source": [
        "def split_predct(n,X,y,x_test):\n",
        "\n",
        "    X_train=np.array(X)\n",
        "    X_test=np.array(x_test)\n",
        "    y_train=np.array(y)\n",
        "\n",
        "    X_train = np.concatenate((np.ones((X_train.shape[0], 1)), X_train), axis=1)\n",
        "    X_test = np.concatenate((np.ones((X_test.shape[0], 1)), X_test), axis=1)\n",
        "\n",
        "    pred_sum=np.zeros(shape=(X_test.shape[0],2))\n",
        "    pred_sum_train=np.zeros(shape=(X_train.shape[0],2))\n",
        "    y_train=y_train.reshape((X_train.shape[0],1))\n",
        "    to_con= np.concatenate((y_train, X_train), axis=1)\n",
        "\n",
        "    splitarr = np.array_split(to_con, n,axis=0)\n",
        "\n",
        "    for i in range(n):\n",
        "        y_splited=splitarr[i][:,0]\n",
        "        x_splitet=splitarr[i][:,0:-1]\n",
        "        y_splited=np.round(y_splited.astype(int))\n",
        "        #print(y_splited)\n",
        "        my_model=MyMultinomialLogisticRegression(2,0.01,1000)\n",
        "        \n",
        "        y_train2=y_to_mat(y_splited.copy(),2)\n",
        "\n",
        "        my_model.fit(x_splitet,y_train2)\n",
        "        pred_sum=pred_sum+my_model.predict(X_test)\n",
        "        pred_sum_train=pred_sum_train+my_model.predict(X_train)\n",
        "        #print(pred_sum.shape)\n",
        "    return np.argmax(pred_sum, axis=1),np.argmax(pred_sum_train,axis=1)\n",
        "        "
      ]
    },
    {
      "cell_type": "code",
      "execution_count": 8,
      "metadata": {},
      "outputs": [
        {
          "name": "stdout",
          "output_type": "stream",
          "text": [
            "Accuracy test: 0.68\n",
            "Accuracy test: 0.73\n",
            "Accuracy test: 0.75\n",
            "Accuracy test: 0.73\n",
            "Accuracy test: 0.74\n",
            "Accuracy test: 0.74\n",
            "Accuracy test: 0.74\n",
            "Accuracy test: 0.73\n",
            "Accuracy test: 0.75\n",
            "Accuracy test: 0.74\n",
            "Accuracy test: 0.74\n",
            "Accuracy test: 0.75\n",
            "Accuracy test: 0.74\n",
            "Accuracy test: 0.75\n",
            "Accuracy test: 0.74\n",
            "Accuracy test: 0.74\n",
            "Accuracy test: 0.75\n"
          ]
        },
        {
          "ename": "KeyboardInterrupt",
          "evalue": "",
          "output_type": "error",
          "traceback": [
            "\u001b[1;31m---------------------------------------------------------------------------\u001b[0m",
            "\u001b[1;31mKeyboardInterrupt\u001b[0m                         Traceback (most recent call last)",
            "Cell \u001b[1;32mIn[8], line 31\u001b[0m\n\u001b[0;32m     28\u001b[0m pred_train\u001b[38;5;241m=\u001b[39m[]\n\u001b[0;32m     29\u001b[0m \u001b[38;5;28;01mfor\u001b[39;00m i \u001b[38;5;129;01min\u001b[39;00m \u001b[38;5;28mrange\u001b[39m(start,finish,\u001b[38;5;241m5\u001b[39m):\n\u001b[1;32m---> 31\u001b[0m     my_pred,my_pred_train\u001b[38;5;241m=\u001b[39m\u001b[43msplit_predct\u001b[49m\u001b[43m(\u001b[49m\u001b[43mi\u001b[49m\u001b[43m,\u001b[49m\u001b[43mX_train\u001b[49m\u001b[43m,\u001b[49m\u001b[43my_train\u001b[49m\u001b[43m,\u001b[49m\u001b[43mX_test\u001b[49m\u001b[43m)\u001b[49m\n\u001b[0;32m     32\u001b[0m     pred_test\u001b[38;5;241m=\u001b[39mpred_test\u001b[38;5;241m+\u001b[39m[my_pred]\n\u001b[0;32m     33\u001b[0m     pred_train\u001b[38;5;241m=\u001b[39mpred_train\u001b[38;5;241m+\u001b[39m[my_pred_train]\n",
            "Cell \u001b[1;32mIn[4], line 26\u001b[0m, in \u001b[0;36msplit_predct\u001b[1;34m(n, X, y, x_test)\u001b[0m\n\u001b[0;32m     22\u001b[0m my_model\u001b[38;5;241m=\u001b[39mMyMultinomialLogisticRegression(\u001b[38;5;241m2\u001b[39m,\u001b[38;5;241m0.01\u001b[39m,\u001b[38;5;241m1000\u001b[39m)\n\u001b[0;32m     24\u001b[0m y_train2\u001b[38;5;241m=\u001b[39my_to_mat(y_splited\u001b[38;5;241m.\u001b[39mcopy(),\u001b[38;5;241m2\u001b[39m)\n\u001b[1;32m---> 26\u001b[0m \u001b[43mmy_model\u001b[49m\u001b[38;5;241;43m.\u001b[39;49m\u001b[43mfit\u001b[49m\u001b[43m(\u001b[49m\u001b[43mx_splitet\u001b[49m\u001b[43m,\u001b[49m\u001b[43my_train2\u001b[49m\u001b[43m)\u001b[49m\n\u001b[0;32m     27\u001b[0m pred_sum\u001b[38;5;241m=\u001b[39mpred_sum\u001b[38;5;241m+\u001b[39mmy_model\u001b[38;5;241m.\u001b[39mpredict(X_test)\n\u001b[0;32m     28\u001b[0m pred_sum_train\u001b[38;5;241m=\u001b[39mpred_sum_train\u001b[38;5;241m+\u001b[39mmy_model\u001b[38;5;241m.\u001b[39mpredict(X_train)\n",
            "Cell \u001b[1;32mIn[7], line 42\u001b[0m, in \u001b[0;36mMyMultinomialLogisticRegression.fit\u001b[1;34m(self, X_train, y_train)\u001b[0m\n\u001b[0;32m     39\u001b[0m X_train\u001b[38;5;241m=\u001b[39m\u001b[38;5;28mself\u001b[39m\u001b[38;5;241m.\u001b[39mnormalize_columns(X_train)\n\u001b[0;32m     41\u001b[0m \u001b[38;5;66;03m# Assuming X_train and y_train are your training data (features and labels)\u001b[39;00m\n\u001b[1;32m---> 42\u001b[0m \u001b[38;5;28;43mself\u001b[39;49m\u001b[38;5;241;43m.\u001b[39;49m\u001b[43mgradient_descent\u001b[49m\u001b[43m(\u001b[49m\u001b[43mX_train\u001b[49m\u001b[43m,\u001b[49m\u001b[43m \u001b[49m\u001b[43my_train\u001b[49m\u001b[43m)\u001b[49m\n",
            "Cell \u001b[1;32mIn[7], line 33\u001b[0m, in \u001b[0;36mMyMultinomialLogisticRegression.gradient_descent\u001b[1;34m(self, X, y)\u001b[0m\n\u001b[0;32m     31\u001b[0m \u001b[38;5;28;01mfor\u001b[39;00m _ \u001b[38;5;129;01min\u001b[39;00m \u001b[38;5;28mrange\u001b[39m(\u001b[38;5;28mself\u001b[39m\u001b[38;5;241m.\u001b[39mmin_iterations):\n\u001b[0;32m     32\u001b[0m     logits \u001b[38;5;241m=\u001b[39m X\u001b[38;5;241m.\u001b[39mdot(\u001b[38;5;28mself\u001b[39m\u001b[38;5;241m.\u001b[39mweights)\n\u001b[1;32m---> 33\u001b[0m     probs \u001b[38;5;241m=\u001b[39m \u001b[38;5;28;43mself\u001b[39;49m\u001b[38;5;241;43m.\u001b[39;49m\u001b[43msoftmax\u001b[49m\u001b[43m(\u001b[49m\u001b[43mlogits\u001b[49m\u001b[43m)\u001b[49m\n\u001b[0;32m     34\u001b[0m     \u001b[38;5;66;03m#print(y)\u001b[39;00m\n\u001b[0;32m     35\u001b[0m     gradient \u001b[38;5;241m=\u001b[39m X\u001b[38;5;241m.\u001b[39mT\u001b[38;5;241m.\u001b[39mdot(probs \u001b[38;5;241m-\u001b[39m y) \u001b[38;5;241m/\u001b[39m num_samples\n",
            "Cell \u001b[1;32mIn[7], line 17\u001b[0m, in \u001b[0;36mMyMultinomialLogisticRegression.softmax\u001b[1;34m(self, z)\u001b[0m\n\u001b[0;32m     14\u001b[0m exp_z \u001b[38;5;241m=\u001b[39m np\u001b[38;5;241m.\u001b[39mexp(z)\n\u001b[0;32m     16\u001b[0m \u001b[38;5;28;01mfor\u001b[39;00m i \u001b[38;5;129;01min\u001b[39;00m \u001b[38;5;28mrange\u001b[39m(exp_z\u001b[38;5;241m.\u001b[39mshape[\u001b[38;5;241m0\u001b[39m]):\n\u001b[1;32m---> 17\u001b[0m     \u001b[43mexp_z\u001b[49m\u001b[43m[\u001b[49m\u001b[43mi\u001b[49m\u001b[43m,\u001b[49m\u001b[43m:\u001b[49m\u001b[43m]\u001b[49m \u001b[38;5;241m=\u001b[39mexp_z[i,:] \u001b[38;5;241m/\u001b[39m np\u001b[38;5;241m.\u001b[39msum(exp_z[i,:])\n\u001b[0;32m     19\u001b[0m \u001b[38;5;28;01mreturn\u001b[39;00m exp_z\n",
            "\u001b[1;31mKeyboardInterrupt\u001b[0m: "
          ]
        }
      ],
      "source": [
        "# Your code goes here!\n",
        "dataset = pd.read_csv('adult.csv', na_values='?')\n",
        "null_counts_per_column =dataset.isnull().sum()\n",
        "#print(null_counts_per_column)\n",
        "dataset=preprocess_adult_dataset(dataset)\n",
        "dataset = dataset.astype(int)\n",
        "dataset=dataset.fillna(dataset.mean())\n",
        "#print(dataset.head(0))\n",
        "\n",
        "dataset['age'] = (dataset['age'] - dataset['age'].mean()) / dataset['age'].std()\n",
        "dataset['fnlwgt'] = (dataset['fnlwgt'] - dataset['fnlwgt'].mean()) / dataset['fnlwgt'].std()\n",
        "dataset['capital-gain'] = (dataset['capital-gain'] - dataset['capital-gain'].mean()) / dataset['capital-gain'].std()\n",
        "dataset['capital-loss'] = (dataset['capital-loss'] - dataset['capital-loss'].mean()) / dataset['capital-loss'].std()\n",
        "\n",
        "# Split data into features (X) and target (y)\n",
        "X = dataset.drop(columns=['income_>50K'])\n",
        "y = dataset['income_>50K']\n",
        "\n",
        "# Split into training and testing sets\n",
        "X_train, X_test, y_train, y_test = train_test_split(X, y, test_size=0.2, random_state=42)\n",
        "\n",
        "\n",
        "start=2\n",
        "finish=100\n",
        "accuracies_test=[]\n",
        "accuracies_train=[]\n",
        "pred_test=[]\n",
        "pred_train=[]\n",
        "for i in range(start,finish,5):\n",
        "\n",
        "    my_pred,my_pred_train=split_predct(i,X_train,y_train,X_test)\n",
        "    pred_test=pred_test+[my_pred]\n",
        "    pred_train=pred_train+[my_pred_train]\n",
        "    myaccuracy = accuracy_score(y_test, my_pred)\n",
        "    myaccuracy_train = accuracy_score(y_train, my_pred_train)\n",
        "    print(f\"Accuracy test: {myaccuracy:.2f}\")  \n",
        "    accuracies_test=accuracies_test+[myaccuracy]  \n",
        "    accuracies_train=accuracies_train+[myaccuracy_train]  \n",
        "\n",
        "\n"
      ]
    },
    {
      "cell_type": "code",
      "execution_count": null,
      "metadata": {},
      "outputs": [],
      "source": []
    },
    {
      "cell_type": "markdown",
      "metadata": {},
      "source": []
    },
    {
      "cell_type": "markdown",
      "metadata": {
        "id": "6Lzr2lqXDQ1T"
      },
      "source": [
        "**Task:** To try a different route, split X_train into $i$ parts, and train $i$ separate models on these parts. Now propose and implement 3 different *ensemble methods* to derive the global models' prediction for X_test using the results(not necessarily predictions!) of the $i$ models. Firstly, set $i=10$ to find the method with the best test accuracy(the answer is not general!). You must Use your own Logistic Regression model.(You might want to modify it a little bit for this part!)<be>\n",
        "<br>Here we used hard voting with weight we added probability output of each model and added them and gave chosed the most probable class,and its the best method for this task.\n",
        "soft voting is not good for the cases when we have even number of models because it can lead to confusion.<br>\n"
      ]
    },
    {
      "cell_type": "code",
      "execution_count": 96,
      "metadata": {
        "id": "K9D1jlstF9nF"
      },
      "outputs": [],
      "source": [
        "# Your code goes here!\n",
        "\n",
        "#code is higher up\n"
      ]
    },
    {
      "cell_type": "code",
      "execution_count": null,
      "metadata": {},
      "outputs": [],
      "source": []
    },
    {
      "cell_type": "code",
      "execution_count": null,
      "metadata": {},
      "outputs": [],
      "source": [
        " "
      ]
    },
    {
      "cell_type": "code",
      "execution_count": 10,
      "metadata": {},
      "outputs": [],
      "source": [
        "def plot_multiple_r2_on_same_axis(train_test_ratios, r2_values_list, labels,ylim,x_label,y_label,title,log):\n",
        "    \n",
        "    assert len(r2_values_list) == len(labels), \"Number of R² value vectors must match the number of labels\"\n",
        "    plt.figure(figsize=(8, 6))\n",
        "    for i, r2_values in enumerate(r2_values_list):\n",
        "        if(log==0):\n",
        "            plt.plot(train_test_ratios, r2_values, marker='o', label=labels[i])\n",
        "        elif(log==1): \n",
        "            plt.semilogx(train_test_ratios, r2_values,marker='o', label=labels[i])\n",
        "        elif(log==2):\n",
        "            plt.semilogx(train_test_ratios, r2_values, label=labels[i])\n",
        "        elif(log==3):\n",
        "            plt.semilogy(train_test_ratios, r2_values, label=labels[i])        \n",
        "    plt.xlabel(x_label)#'Train Ratio')\n",
        "    plt.ylabel(y_label)#'R² Value')\n",
        "    plt.title(title)#'R² vs. Train Ratio')\n",
        "    plt.ylim(ylim)\n",
        "    plt.grid(True)\n",
        "    plt.legend()\n",
        "    plt.show()"
      ]
    },
    {
      "cell_type": "markdown",
      "metadata": {
        "id": "9QS9HYJ5FW1T"
      },
      "source": [
        "**Question:** Explain your proposed methods and the reason you decided to use them!"
      ]
    },
    {
      "cell_type": "markdown",
      "metadata": {
        "id": "6hCBQuAeF46a"
      },
      "source": [
        "**Your answer:**\n",
        "**1 - Voting Classifier:**<br>\n",
        "The voting classifier combines predictions from multiple models (in this case, logistic regression models) by majority voting.<br>\n",
        "It predicts the class that receives the most votes from the individual models.<br>\n",
        "You can use either “hard” voting (simple majority) or “soft” voting (weighted by confidence scores).<br>\n",
        "**2 - Bagging (Bootstrap Aggregating):**<br>\n",
        "Bagging trains multiple models on random subsets of the data (with replacement).<br>\n",
        "Each model is trained independently, and their predictions are averaged or majority-voted.<br>\n",
        "It reduces variance and improves stability.<br>\n",
        "**3 - Stacking:**<br>\n",
        "Stacking combines predictions from multiple models by training a meta-model (usually another model) on their outputs.<br>\n",
        "The base models (logistic regressions in our case) make predictions on the same data, and their predictions become features for the meta-model.\n",
        "Stacking can capture complex relationships between base models.<br>"
      ]
    },
    {
      "cell_type": "markdown",
      "metadata": {
        "id": "jjSREvg4FTHf"
      },
      "source": [
        "**Task:** Now, for your best method, change $i$ from 2 to 100 and report $i$, train and test accuracy of the best model. Also, plot test and train accuracy for $2\\leq i\\leq100$.\n",
        "<br>\n",
        "**Because data set is very large and running time was around 5 minutes for each value of i ,we terminated the process and ploted for 17 values of i.**"
      ]
    },
    {
      "cell_type": "code",
      "execution_count": 103,
      "metadata": {
        "id": "tfKS-Jq0-v4P"
      },
      "outputs": [
        {
          "data": {
            "image/png": "[encoded data removed]",
            "text/plain": [
              "<Figure size 800x600 with 1 Axes>"
            ]
          },
          "metadata": {},
          "output_type": "display_data"
        }
      ],
      "source": [
        "# Your code goes here!\n",
        "sep=[]\n",
        "s=0\n",
        "for i in range(2,100,5):\n",
        "    sep=sep+[i]\n",
        "    s=s+1\n",
        "\n",
        "plot_multiple_r2_on_same_axis(np.array(sep),[np.array(accuracies_test,np.array(accuracies_train))],['Accuracy test','Accuracy train'],[0,1],'i','accuracy','Last part',0)"
      ]
    },
    {
      "cell_type": "code",
      "execution_count": 35,
      "metadata": {},
      "outputs": [
        {
          "data": {
            "image/png": "[encoded data removed]",
            "text/plain": [
              "<Figure size 800x600 with 1 Axes>"
            ]
          },
          "metadata": {},
          "output_type": "display_data"
        }
      ],
      "source": [
        "# Your code goes here!\n",
        "sep=[]\n",
        "s=0\n",
        "for i in range(2,83,5):\n",
        "    sep=sep+[i]\n",
        "    s=s+1\n",
        "plot_multiple_r2_on_same_axis(np.array(sep),[np.array(accuracies_test),np.array(accuracies_train)],['Accuracy test','Accuracy train'],[0,1],'i','accuracy','Last part',0)"
      ]
    },
    {
      "cell_type": "code",
      "execution_count": null,
      "metadata": {},
      "outputs": [],
      "source": []
    },
    {
      "cell_type": "code",
      "execution_count": null,
      "metadata": {},
      "outputs": [],
      "source": [
        "\n"
      ]
    },
    {
      "cell_type": "code",
      "execution_count": null,
      "metadata": {},
      "outputs": [],
      "source": [
        "\n"
      ]
    },
    {
      "cell_type": "markdown",
      "metadata": {
        "id": "BWV0YUgRGg1p"
      },
      "source": [
        "**Question:** Analyze the results."
      ]
    },
    {
      "cell_type": "markdown",
      "metadata": {},
      "source": [
        "**Your Answer:**<br>\n",
        "Best model i=12\n",
        "As we can see because the data set is very large and also individual sub sets of data sets are not biased the accuracy doesn't change across different values of i and when we split the data set and then get the average of probabilities overfitting becomes less as we can see from the results the test and train accurecies are close to each other so overfotting didn't accured."
      ]
    },
    {
      "cell_type": "markdown",
      "metadata": {},
      "source": []
    }
  ],
  "metadata": {
    "colab": {
      "provenance": []
    },
    "kernelspec": {
      "display_name": "Python 3",
      "name": "python3"
    },
    "language_info": {
      "codemirror_mode": {
        "name": "ipython",
        "version": 3
      },
      "file_extension": ".py",
      "mimetype": "text/x-python",
      "name": "python",
      "nbconvert_exporter": "python",
      "pygments_lexer": "ipython3",
      "version": "3.9.2"
    }
  },
  "nbformat": 4,
  "nbformat_minor": 0
}
